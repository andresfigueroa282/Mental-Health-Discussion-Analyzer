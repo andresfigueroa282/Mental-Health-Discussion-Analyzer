{
 "cells": [
  {
   "cell_type": "markdown",
   "id": "8e52262e",
   "metadata": {},
   "source": [
    "## Mental Health Discussion Analyzer Web Scraper\n",
    "#### Author\n",
    "**Name:** Andres Figueroa  \n",
    "**Email:** andresfigueroa@brandeis.edu\n",
    "\n",
    "#### Project Description\n",
    "The purpose of this file is to collects data by web scraping. I am doing this on .ipynb file because this is my first time web scraping. I like the markdown, makes notes look nice.\n",
    "\n",
    "---\n",
    "\n",
    "#### Importing Libraries"
   ]
  },
  {
   "cell_type": "code",
   "execution_count": 7,
   "id": "f0b12f47",
   "metadata": {},
   "outputs": [],
   "source": [
    "import praw\n",
    "import pandas as pd\n",
    "from dotenv import load_dotenv\n",
    "import os"
   ]
  },
  {
   "cell_type": "markdown",
   "id": "52d58100",
   "metadata": {},
   "source": [
    "The `praw` library is the Python Reddit API Wrapper (PRAW). PRAW is the Reddit API, this will allow me acces the data I want from Reddit.\n",
    "\n",
    "**Note:** I can use the `requests` and `BeautifulSoup` for raw HTML scraping, but I guess the API is easier to use."
   ]
  },
  {
   "cell_type": "markdown",
   "id": "e67b89bc",
   "metadata": {},
   "source": [
    "---\n",
    "\n",
    "### Understanding the Target Data (What We Are Looking For)\n",
    "\n",
    "I was thinking about scraping data from the following Reddit communities:\n",
    "- r/mentalhealth\n",
    "- r/depression\n",
    "- r/anxiety\n",
    "\n",
    "**Note:** After viewing the number of followers and reading some of the posts, I have decided to just scrape data from just `r/mentalhealth` as posts cover a variety of disorders and situations.\n",
    "\n",
    "As for the data that I will be collecting, I will will collect:\n",
    "- Post Body Text\n",
    "- Timestamp\n",
    "- Number of Upvotes\n",
    "- Number of Comments\n",
    "\n",
    "**Note:** From this data I am hoping to better understand what people are talking about, where conversations or posts are positive, negative, or neutral.\n",
    "\n",
    "`r/mentalhealth` URL: https://www.reddit.com/r/mentalhealth/\n",
    "\n",
    "---\n",
    "\n",
    "#### Authenticating"
   ]
  },
  {
   "cell_type": "code",
   "execution_count": 8,
   "id": "ba74c997",
   "metadata": {},
   "outputs": [
    {
     "name": "stdout",
     "output_type": "stream",
     "text": [
      "Client ID from env: TlXsBUQsFFuj9U9zXa4HEg\n",
      "Logged in as: Friendly-Sir-8457\n"
     ]
    }
   ],
   "source": [
    "load_dotenv()\n",
    "\n",
    "print(\"Client ID from env:\", os.getenv(\"REDDIT_CLIENT_ID\"))\n",
    "\n",
    "reddit = praw.Reddit(\n",
    "    client_id = os.getenv(\"REDDIT_CLIENT_ID\"),\n",
    "    client_secret = os.getenv(\"REDDIT_CLIENT_SECRET\"),\n",
    "    user_agent = \"MentalHealthAnalyzer by /u/Friendly-Sir-8457\",\n",
    "    username = os.getenv(\"REDDIT_USERNAME\"),\n",
    "    password = os.getenv(\"REDDIT_PASSWORD\")\n",
    ")\n",
    "\n",
    "print(\"Logged in as:\", reddit.user.me())"
   ]
  },
  {
   "cell_type": "markdown",
   "id": "5124790c",
   "metadata": {},
   "source": [
    "Here, I am loading environment varaibles with `load_dotenv()` and passing them through the Reddit API with PRAW. Then, I am testing whether the passed environment variables (login info.) to see if they worked by printing `reddit.user.me()`. I am essentially doing a really annoying login process, authenticating.  \n",
    "\n",
    "**Note:** APIs are frusturating"
   ]
  },
  {
   "cell_type": "code",
   "execution_count": 10,
   "id": "b43f85e5",
   "metadata": {},
   "outputs": [
    {
     "name": "stdout",
     "output_type": "stream",
     "text": [
      "Collected 10 posts\n"
     ]
    },
    {
     "data": {
      "text/html": [
       "<div>\n",
       "<style scoped>\n",
       "    .dataframe tbody tr th:only-of-type {\n",
       "        vertical-align: middle;\n",
       "    }\n",
       "\n",
       "    .dataframe tbody tr th {\n",
       "        vertical-align: top;\n",
       "    }\n",
       "\n",
       "    .dataframe thead th {\n",
       "        text-align: right;\n",
       "    }\n",
       "</style>\n",
       "<table border=\"1\" class=\"dataframe\">\n",
       "  <thead>\n",
       "    <tr style=\"text-align: right;\">\n",
       "      <th></th>\n",
       "      <th>title</th>\n",
       "      <th>score</th>\n",
       "      <th>num_comments</th>\n",
       "      <th>created</th>\n",
       "      <th>selftext</th>\n",
       "    </tr>\n",
       "  </thead>\n",
       "  <tbody>\n",
       "    <tr>\n",
       "      <th>0</th>\n",
       "      <td>Wellness Wednesday</td>\n",
       "      <td>2</td>\n",
       "      <td>1</td>\n",
       "      <td>1.756876e+09</td>\n",
       "      <td>&gt;*“Sometimes the bravest and most important th...</td>\n",
       "    </tr>\n",
       "    <tr>\n",
       "      <th>1</th>\n",
       "      <td>r/MentalHealth is looking for moderators</td>\n",
       "      <td>21</td>\n",
       "      <td>27</td>\n",
       "      <td>1.720874e+09</td>\n",
       "      <td>Hey r/mentalhealth! We're looking to grow our ...</td>\n",
       "    </tr>\n",
       "    <tr>\n",
       "      <th>2</th>\n",
       "      <td>All those advices for depression are trash</td>\n",
       "      <td>74</td>\n",
       "      <td>38</td>\n",
       "      <td>1.757316e+09</td>\n",
       "      <td>I hate hearing all the usual that people say t...</td>\n",
       "    </tr>\n",
       "    <tr>\n",
       "      <th>3</th>\n",
       "      <td>does depression go away without medication?</td>\n",
       "      <td>7</td>\n",
       "      <td>6</td>\n",
       "      <td>1.757343e+09</td>\n",
       "      <td>things has been so hard right now and im not r...</td>\n",
       "    </tr>\n",
       "    <tr>\n",
       "      <th>4</th>\n",
       "      <td>Some people are unbelievable</td>\n",
       "      <td>6</td>\n",
       "      <td>6</td>\n",
       "      <td>1.757345e+09</td>\n",
       "      <td>I once made a post about r@pe. Im a csa victim...</td>\n",
       "    </tr>\n",
       "  </tbody>\n",
       "</table>\n",
       "</div>"
      ],
      "text/plain": [
       "                                         title  score  num_comments  \\\n",
       "0                           Wellness Wednesday      2             1   \n",
       "1     r/MentalHealth is looking for moderators     21            27   \n",
       "2   All those advices for depression are trash     74            38   \n",
       "3  does depression go away without medication?      7             6   \n",
       "4                 Some people are unbelievable      6             6   \n",
       "\n",
       "        created                                           selftext  \n",
       "0  1.756876e+09  >*“Sometimes the bravest and most important th...  \n",
       "1  1.720874e+09  Hey r/mentalhealth! We're looking to grow our ...  \n",
       "2  1.757316e+09  I hate hearing all the usual that people say t...  \n",
       "3  1.757343e+09  things has been so hard right now and im not r...  \n",
       "4  1.757345e+09  I once made a post about r@pe. Im a csa victim...  "
      ]
     },
     "execution_count": 10,
     "metadata": {},
     "output_type": "execute_result"
    }
   ],
   "source": [
    "subreddit = reddit.subreddit(\"mentalhealth\")\n",
    "\n",
    "posts = []\n",
    "for post in subreddit.hot(limit=10):\n",
    "    posts.append({\n",
    "        \"title\": post.title,\n",
    "        \"score\": post.score,\n",
    "        \"num_comments\": post.num_comments,\n",
    "        \"created\": post.created_utc,\n",
    "        \"selftext\": post.selftext\n",
    "    })\n",
    "\n",
    "df = pd.DataFrame(posts)\n",
    "\n",
    "print(\"Collected\", len(df), \"posts\")\n",
    "df.head()"
   ]
  },
  {
   "cell_type": "markdown",
   "id": "51e9344e",
   "metadata": {},
   "source": []
  }
 ],
 "metadata": {
  "kernelspec": {
   "display_name": "Python 3",
   "language": "python",
   "name": "python3"
  },
  "language_info": {
   "codemirror_mode": {
    "name": "ipython",
    "version": 3
   },
   "file_extension": ".py",
   "mimetype": "text/x-python",
   "name": "python",
   "nbconvert_exporter": "python",
   "pygments_lexer": "ipython3",
   "version": "3.10.11"
  }
 },
 "nbformat": 4,
 "nbformat_minor": 5
}
