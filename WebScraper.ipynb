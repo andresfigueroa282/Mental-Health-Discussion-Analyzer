{
 "cells": [
  {
   "cell_type": "markdown",
   "id": "8e52262e",
   "metadata": {},
   "source": [
    "## Mental Health Discussion Analyzer Web Scraper\n",
    "#### Author\n",
    "**Name:** Andres Figueroa  \n",
    "**Email:** andresfigueroa@brandeis.edu\n",
    "\n",
    "#### Project Description\n",
    "The purpose of this file is to collects data by web scraping. I am doing this on .ipynb file because this is my first time web scraping. I like the markdown, makes notes look nice.\n",
    "\n",
    "---\n",
    "\n",
    "#### Importing Libraries"
   ]
  },
  {
   "cell_type": "code",
   "execution_count": 16,
   "id": "f0b12f47",
   "metadata": {},
   "outputs": [],
   "source": [
    "import praw\n",
    "import pandas as pd\n",
    "from dotenv import load_dotenv\n",
    "import os\n",
    "from datetime import datetime"
   ]
  },
  {
   "cell_type": "markdown",
   "id": "52d58100",
   "metadata": {},
   "source": [
    "The `praw` library is the Python Reddit API Wrapper (PRAW). PRAW is the Reddit API, this will allow me acces the data I want from Reddit.\n",
    "\n",
    "**Note:** I can use the `requests` and `BeautifulSoup` for raw HTML scraping, but I guess the API is easier to use."
   ]
  },
  {
   "cell_type": "markdown",
   "id": "e67b89bc",
   "metadata": {},
   "source": [
    "---\n",
    "\n",
    "### Understanding the Target Data (What We Are Looking For)\n",
    "\n",
    "I was thinking about scraping data from the following Reddit communities:\n",
    "- r/mentalhealth\n",
    "- r/depression\n",
    "- r/anxiety\n",
    "\n",
    "**Note:** After viewing the number of followers and reading some of the posts, I have decided to just scrape data from just `r/mentalhealth` as posts cover a variety of disorders and situations.\n",
    "\n",
    "As for the data that I will be collecting, I will will collect:\n",
    "- Post Body Text\n",
    "- Timestamp\n",
    "- Number of Upvotes\n",
    "- Number of Comments\n",
    "\n",
    "**Note:** From this data I am hoping to better understand what people are talking about, where conversations or posts are positive, negative, or neutral.\n",
    "\n",
    "`r/mentalhealth` URL: https://www.reddit.com/r/mentalhealth/\n",
    "\n",
    "---\n",
    "\n",
    "#### Authenticating"
   ]
  },
  {
   "cell_type": "code",
   "execution_count": 17,
   "id": "ba74c997",
   "metadata": {},
   "outputs": [
    {
     "name": "stdout",
     "output_type": "stream",
     "text": [
      "Client ID from env: TlXsBUQsFFuj9U9zXa4HEg\n",
      "Logged in as: Friendly-Sir-8457\n"
     ]
    }
   ],
   "source": [
    "load_dotenv()\n",
    "\n",
    "print(\"Client ID from env:\", os.getenv(\"REDDIT_CLIENT_ID\"))\n",
    "\n",
    "reddit = praw.Reddit(\n",
    "    client_id = os.getenv(\"REDDIT_CLIENT_ID\"),\n",
    "    client_secret = os.getenv(\"REDDIT_CLIENT_SECRET\"),\n",
    "    user_agent = \"MentalHealthAnalyzer by /u/Friendly-Sir-8457\",\n",
    "    username = os.getenv(\"REDDIT_USERNAME\"),\n",
    "    password = os.getenv(\"REDDIT_PASSWORD\")\n",
    ")\n",
    "\n",
    "print(\"Logged in as:\", reddit.user.me())"
   ]
  },
  {
   "cell_type": "markdown",
   "id": "5124790c",
   "metadata": {},
   "source": [
    "Here, I am loading environment varaibles with `load_dotenv()` and passing them through the Reddit API with PRAW. Then, I am testing whether the passed environment variables (login info.) to see if they worked by printing `reddit.user.me()`. I am essentially doing a really annoying login process, authenticating.  \n",
    "\n",
    "**Note:** APIs are frusturating\n",
    "\n",
    "---\n",
    "\n",
    "#### Taking a Peek at the Scraped Data"
   ]
  },
  {
   "cell_type": "code",
   "execution_count": 18,
   "id": "b43f85e5",
   "metadata": {},
   "outputs": [
    {
     "name": "stdout",
     "output_type": "stream",
     "text": [
      "Collected 500 posts\n"
     ]
    },
    {
     "data": {
      "text/html": [
       "<div>\n",
       "<style scoped>\n",
       "    .dataframe tbody tr th:only-of-type {\n",
       "        vertical-align: middle;\n",
       "    }\n",
       "\n",
       "    .dataframe tbody tr th {\n",
       "        vertical-align: top;\n",
       "    }\n",
       "\n",
       "    .dataframe thead th {\n",
       "        text-align: right;\n",
       "    }\n",
       "</style>\n",
       "<table border=\"1\" class=\"dataframe\">\n",
       "  <thead>\n",
       "    <tr style=\"text-align: right;\">\n",
       "      <th></th>\n",
       "      <th>title</th>\n",
       "      <th>score</th>\n",
       "      <th>num_comments</th>\n",
       "      <th>created</th>\n",
       "      <th>selftext</th>\n",
       "    </tr>\n",
       "  </thead>\n",
       "  <tbody>\n",
       "    <tr>\n",
       "      <th>0</th>\n",
       "      <td>I feel behind in life and it is making me depr...</td>\n",
       "      <td>1</td>\n",
       "      <td>0</td>\n",
       "      <td>1.757374e+09</td>\n",
       "      <td>I just feel so behind in life. I keep wishing ...</td>\n",
       "    </tr>\n",
       "    <tr>\n",
       "      <th>1</th>\n",
       "      <td>I don't understand why I'm hurting</td>\n",
       "      <td>1</td>\n",
       "      <td>0</td>\n",
       "      <td>1.757374e+09</td>\n",
       "      <td>I've been diagnosed by a psychiatrist for depr...</td>\n",
       "    </tr>\n",
       "    <tr>\n",
       "      <th>2</th>\n",
       "      <td>Struggling with Maladaptive Daydreaming: How D...</td>\n",
       "      <td>1</td>\n",
       "      <td>0</td>\n",
       "      <td>1.757374e+09</td>\n",
       "      <td>Hi everyone,\\nI’m reaching out because I’m str...</td>\n",
       "    </tr>\n",
       "    <tr>\n",
       "      <th>3</th>\n",
       "      <td>I hate my life</td>\n",
       "      <td>2</td>\n",
       "      <td>2</td>\n",
       "      <td>1.757374e+09</td>\n",
       "      <td>I'm 30m. And I hate my life. I hate my job and...</td>\n",
       "    </tr>\n",
       "    <tr>\n",
       "      <th>4</th>\n",
       "      <td>Guys it's slowly but surely becoming unbearable</td>\n",
       "      <td>1</td>\n",
       "      <td>1</td>\n",
       "      <td>1.757374e+09</td>\n",
       "      <td>I can't. I just can't. \\n\\nAt day, at work, wi...</td>\n",
       "    </tr>\n",
       "  </tbody>\n",
       "</table>\n",
       "</div>"
      ],
      "text/plain": [
       "                                               title  score  num_comments  \\\n",
       "0  I feel behind in life and it is making me depr...      1             0   \n",
       "1                 I don't understand why I'm hurting      1             0   \n",
       "2  Struggling with Maladaptive Daydreaming: How D...      1             0   \n",
       "3                                     I hate my life      2             2   \n",
       "4    Guys it's slowly but surely becoming unbearable      1             1   \n",
       "\n",
       "        created                                           selftext  \n",
       "0  1.757374e+09  I just feel so behind in life. I keep wishing ...  \n",
       "1  1.757374e+09  I've been diagnosed by a psychiatrist for depr...  \n",
       "2  1.757374e+09  Hi everyone,\\nI’m reaching out because I’m str...  \n",
       "3  1.757374e+09  I'm 30m. And I hate my life. I hate my job and...  \n",
       "4  1.757374e+09  I can't. I just can't. \\n\\nAt day, at work, wi...  "
      ]
     },
     "execution_count": 18,
     "metadata": {},
     "output_type": "execute_result"
    }
   ],
   "source": [
    "subreddit = reddit.subreddit(\"mentalhealth\")\n",
    "\n",
    "posts = []\n",
    "for post in subreddit.new(limit = 500):\n",
    "    posts.append({\n",
    "        \"title\": post.title,\n",
    "        \"score\": post.score,\n",
    "        \"num_comments\": post.num_comments,\n",
    "        \"created\": post.created_utc,\n",
    "        \"selftext\": post.selftext\n",
    "    })\n",
    "\n",
    "df = pd.DataFrame(posts)\n",
    "\n",
    "print(\"Collected\", len(df), \"posts\")\n",
    "df.head()"
   ]
  },
  {
   "cell_type": "markdown",
   "id": "51e9344e",
   "metadata": {},
   "source": [
    "Here, I am taking a peek at the posts in the subreddit `r/mentalhealth` sorted by d'New'. I am collecting the posts title, score, the number of comments, time it was created, and the bodt text of the post. The time looks funky, so I'll see how I can fix or translate it to be usable. Also, I am a little unsure on how many posts I should record.\n",
    "\n",
    "---\n",
    "\n",
    "#### Cleaning Our DataFrame:\n",
    "\n",
    "##### Dropping Posts With No Body Text"
   ]
  },
  {
   "cell_type": "code",
   "execution_count": 19,
   "id": "b7390279",
   "metadata": {},
   "outputs": [],
   "source": [
    "df = df.dropna(subset=[\"title\", \"selftext\"])"
   ]
  },
  {
   "cell_type": "markdown",
   "id": "e55001af",
   "metadata": {},
   "source": [
    "##### Dropping Posts That Were Deleted or Removed"
   ]
  },
  {
   "cell_type": "code",
   "execution_count": 20,
   "id": "b4635d98",
   "metadata": {},
   "outputs": [],
   "source": [
    "df = df[~df[\"selftext\"].isin([\"[deleted]\", \"[removed]\"])]"
   ]
  },
  {
   "cell_type": "markdown",
   "id": "7284a3db",
   "metadata": {},
   "source": [
    "##### Converting the Time of A Posts Created"
   ]
  },
  {
   "cell_type": "code",
   "execution_count": 21,
   "id": "543fd8e1",
   "metadata": {},
   "outputs": [],
   "source": [
    "df[\"created\"] = pd.to_datetime(df[\"created\"], unit = \"s\")"
   ]
  },
  {
   "cell_type": "markdown",
   "id": "863f5ab0",
   "metadata": {},
   "source": [
    "**Note:** Supposedly the numbers that I was looking at (e.g. `1.757373e+09`) was a Unix timestamp. Which oddly is the number seconds past ever since \"January 1st, 1970 at UTC\"."
   ]
  },
  {
   "cell_type": "markdown",
   "id": "86a6d8d2",
   "metadata": {},
   "source": [
    "##### Dropping Duplicates"
   ]
  },
  {
   "cell_type": "code",
   "execution_count": 22,
   "id": "24bcacd6",
   "metadata": {},
   "outputs": [],
   "source": [
    "df = df.drop_duplicates(subset = [\"title\", \"selftext\"])"
   ]
  },
  {
   "cell_type": "markdown",
   "id": "963e586b",
   "metadata": {},
   "source": [
    "##### Removing Any Extra Space"
   ]
  },
  {
   "cell_type": "code",
   "execution_count": 23,
   "id": "75e1cfa1",
   "metadata": {},
   "outputs": [],
   "source": [
    "df[\"title\"] = df[\"title\"].str.strip()\n",
    "df[\"selftext\"] = df[\"selftext\"].str.strip()"
   ]
  },
  {
   "cell_type": "markdown",
   "id": "a5fb7f51",
   "metadata": {},
   "source": [
    "---\n",
    "\n",
    "#### The Clean DataFrame"
   ]
  },
  {
   "cell_type": "code",
   "execution_count": 24,
   "id": "84c1f3fc",
   "metadata": {},
   "outputs": [
    {
     "data": {
      "text/html": [
       "<div>\n",
       "<style scoped>\n",
       "    .dataframe tbody tr th:only-of-type {\n",
       "        vertical-align: middle;\n",
       "    }\n",
       "\n",
       "    .dataframe tbody tr th {\n",
       "        vertical-align: top;\n",
       "    }\n",
       "\n",
       "    .dataframe thead th {\n",
       "        text-align: right;\n",
       "    }\n",
       "</style>\n",
       "<table border=\"1\" class=\"dataframe\">\n",
       "  <thead>\n",
       "    <tr style=\"text-align: right;\">\n",
       "      <th></th>\n",
       "      <th>title</th>\n",
       "      <th>score</th>\n",
       "      <th>num_comments</th>\n",
       "      <th>created</th>\n",
       "      <th>selftext</th>\n",
       "    </tr>\n",
       "  </thead>\n",
       "  <tbody>\n",
       "    <tr>\n",
       "      <th>0</th>\n",
       "      <td>I feel behind in life and it is making me depr...</td>\n",
       "      <td>1</td>\n",
       "      <td>0</td>\n",
       "      <td>2025-09-08 23:29:39</td>\n",
       "      <td>I just feel so behind in life. I keep wishing ...</td>\n",
       "    </tr>\n",
       "    <tr>\n",
       "      <th>1</th>\n",
       "      <td>I don't understand why I'm hurting</td>\n",
       "      <td>1</td>\n",
       "      <td>0</td>\n",
       "      <td>2025-09-08 23:27:41</td>\n",
       "      <td>I've been diagnosed by a psychiatrist for depr...</td>\n",
       "    </tr>\n",
       "    <tr>\n",
       "      <th>2</th>\n",
       "      <td>Struggling with Maladaptive Daydreaming: How D...</td>\n",
       "      <td>1</td>\n",
       "      <td>0</td>\n",
       "      <td>2025-09-08 23:27:27</td>\n",
       "      <td>Hi everyone,\\nI’m reaching out because I’m str...</td>\n",
       "    </tr>\n",
       "    <tr>\n",
       "      <th>3</th>\n",
       "      <td>I hate my life</td>\n",
       "      <td>2</td>\n",
       "      <td>2</td>\n",
       "      <td>2025-09-08 23:26:05</td>\n",
       "      <td>I'm 30m. And I hate my life. I hate my job and...</td>\n",
       "    </tr>\n",
       "    <tr>\n",
       "      <th>4</th>\n",
       "      <td>Guys it's slowly but surely becoming unbearable</td>\n",
       "      <td>1</td>\n",
       "      <td>1</td>\n",
       "      <td>2025-09-08 23:22:24</td>\n",
       "      <td>I can't. I just can't. \\n\\nAt day, at work, wi...</td>\n",
       "    </tr>\n",
       "  </tbody>\n",
       "</table>\n",
       "</div>"
      ],
      "text/plain": [
       "                                               title  score  num_comments  \\\n",
       "0  I feel behind in life and it is making me depr...      1             0   \n",
       "1                 I don't understand why I'm hurting      1             0   \n",
       "2  Struggling with Maladaptive Daydreaming: How D...      1             0   \n",
       "3                                     I hate my life      2             2   \n",
       "4    Guys it's slowly but surely becoming unbearable      1             1   \n",
       "\n",
       "              created                                           selftext  \n",
       "0 2025-09-08 23:29:39  I just feel so behind in life. I keep wishing ...  \n",
       "1 2025-09-08 23:27:41  I've been diagnosed by a psychiatrist for depr...  \n",
       "2 2025-09-08 23:27:27  Hi everyone,\\nI’m reaching out because I’m str...  \n",
       "3 2025-09-08 23:26:05  I'm 30m. And I hate my life. I hate my job and...  \n",
       "4 2025-09-08 23:22:24  I can't. I just can't. \\n\\nAt day, at work, wi...  "
      ]
     },
     "execution_count": 24,
     "metadata": {},
     "output_type": "execute_result"
    }
   ],
   "source": [
    "df.head()"
   ]
  },
  {
   "cell_type": "markdown",
   "id": "def0874c",
   "metadata": {},
   "source": [
    "---\n",
    "\n",
    "#### Turning Our DataFrame Into A CSV"
   ]
  },
  {
   "cell_type": "code",
   "execution_count": 25,
   "id": "cd7ba600",
   "metadata": {},
   "outputs": [
    {
     "name": "stdout",
     "output_type": "stream",
     "text": [
      "<class 'pandas.core.frame.DataFrame'>\n",
      "RangeIndex: 500 entries, 0 to 499\n",
      "Data columns (total 5 columns):\n",
      " #   Column        Non-Null Count  Dtype         \n",
      "---  ------        --------------  -----         \n",
      " 0   title         500 non-null    object        \n",
      " 1   score         500 non-null    int64         \n",
      " 2   num_comments  500 non-null    int64         \n",
      " 3   created       500 non-null    datetime64[ns]\n",
      " 4   selftext      500 non-null    object        \n",
      "dtypes: datetime64[ns](1), int64(2), object(2)\n",
      "memory usage: 19.7+ KB\n"
     ]
    }
   ],
   "source": [
    "df.to_csv(\"mental_health_posts.csv\", index = False)\n",
    "df.shape\n",
    "df.info()"
   ]
  },
  {
   "cell_type": "markdown",
   "id": "c5d3d0d7",
   "metadata": {},
   "source": [
    "**Note:** Well, I got my data. Now, I need to figure out how I am going to make the data usable. I guess I am more so intimidated by how I am going to be turning this data into insights usable to other people."
   ]
  },
  {
   "cell_type": "markdown",
   "id": "8b1db591",
   "metadata": {},
   "source": []
  }
 ],
 "metadata": {
  "kernelspec": {
   "display_name": "Python 3",
   "language": "python",
   "name": "python3"
  },
  "language_info": {
   "codemirror_mode": {
    "name": "ipython",
    "version": 3
   },
   "file_extension": ".py",
   "mimetype": "text/x-python",
   "name": "python",
   "nbconvert_exporter": "python",
   "pygments_lexer": "ipython3",
   "version": "3.10.11"
  }
 },
 "nbformat": 4,
 "nbformat_minor": 5
}
