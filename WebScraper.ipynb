{
 "cells": [
  {
   "cell_type": "markdown",
   "id": "8e52262e",
   "metadata": {},
   "source": [
    "## Mental Health Discussion Analyzer Web Scraper\n",
    "#### Author\n",
    "**Name:** Andres Figueroa  \n",
    "**Email:** andresfigueroa@brandeis.edu\n",
    "\n",
    "#### Project Description\n",
    "The purpose of this file is to collects data by web scraping. I am doing this on .ipynb file because this is my first time web scraping. I like the markdown, makes notes look nice.\n",
    "\n",
    "---\n",
    "\n",
    "#### Importing Libraries"
   ]
  },
  {
   "cell_type": "code",
   "execution_count": null,
   "id": "f0b12f47",
   "metadata": {},
   "outputs": [],
   "source": [
    "import praw\n",
    "import pandas as pd"
   ]
  },
  {
   "cell_type": "markdown",
   "id": "52d58100",
   "metadata": {},
   "source": [
    "The `praw` library is the Python Reddit API Wrapper (PRAW). PRAW is the Reddit API, this will allow me acces the data I want from Reddit.\n",
    "\n",
    "**Note:** I can use the `requests` and `BeautifulSoup` for raw HTML scraping, but I guess the API is easier to use."
   ]
  },
  {
   "cell_type": "markdown",
   "id": "e67b89bc",
   "metadata": {},
   "source": [
    "---\n",
    "\n",
    "### Understanding the Target Data (What We Are Looking For)\n",
    "\n",
    "I was thinking about scraping data from the following Reddit communities:\n",
    "- r/mentalhealth\n",
    "- r/depression\n",
    "- r/anxiety\n",
    "\n",
    "**Note:** After viewing the number of followers and reading some of the posts, I have decided to just scrape data from just `r/mentalhealth` as posts covers a variety of disorders and situations.\n",
    "\n",
    "As for the data that I will be collecting, I will will collect:\n",
    "- Post Body Text\n",
    "- Timestamp\n",
    "- Number of Upvotes\n",
    "- Number of Comments\n",
    "\n",
    "**Note:** From this data I am hoping to better understand what people are talking about, where conversations or posts are positive, negative, or neutral."
   ]
  },
  {
   "cell_type": "markdown",
   "id": "51e9344e",
   "metadata": {},
   "source": []
  }
 ],
 "metadata": {
  "kernelspec": {
   "display_name": "Python 3",
   "language": "python",
   "name": "python3"
  },
  "language_info": {
   "name": "python",
   "version": "3.10.11"
  }
 },
 "nbformat": 4,
 "nbformat_minor": 5
}
