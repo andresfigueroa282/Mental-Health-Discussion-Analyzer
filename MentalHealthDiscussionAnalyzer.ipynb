{
 "cells": [
  {
   "cell_type": "markdown",
   "id": "8313e913",
   "metadata": {},
   "source": [
    "## Mental-Health-Discussion-Analyzer\n",
    "#### Author\n",
    "**Name:** Andres Figueroa  \n",
    "**Email:** andresfigueroa@brandeis.edu\n",
    "\n",
    "#### Project Description\n",
    "The purpose of this project is to build a tool that collects, processes, and visualizes online discussions about mental health (like posts on Reddit).\n",
    "\n",
    "---\n",
    "\n",
    "#### Importing Libraries"
   ]
  },
  {
   "cell_type": "code",
   "execution_count": 16,
   "id": "38589a30",
   "metadata": {},
   "outputs": [],
   "source": [
    "from sklearn.feature_extraction.text import TfidfVectorizer, CountVectorizer, ENGLISH_STOP_WORDS\n",
    "import pandas as pd\n",
    "import numpy as np\n",
    "import re\n",
    "from textblob import TextBlob\n",
    "import matplotlib.pyplot as plt\n",
    "import seaborn as sns\n",
    "import nltk"
   ]
  },
  {
   "cell_type": "markdown",
   "id": "9a253f20",
   "metadata": {},
   "source": [
    "---\n",
    "\n",
    "#### Loading and Exploring Our Data"
   ]
  },
  {
   "cell_type": "code",
   "execution_count": 17,
   "id": "2a40b9ae",
   "metadata": {},
   "outputs": [
    {
     "name": "stdout",
     "output_type": "stream",
     "text": [
      "DataFrame shape: (500, 5)\n"
     ]
    },
    {
     "data": {
      "text/html": [
       "<div>\n",
       "<style scoped>\n",
       "    .dataframe tbody tr th:only-of-type {\n",
       "        vertical-align: middle;\n",
       "    }\n",
       "\n",
       "    .dataframe tbody tr th {\n",
       "        vertical-align: top;\n",
       "    }\n",
       "\n",
       "    .dataframe thead th {\n",
       "        text-align: right;\n",
       "    }\n",
       "</style>\n",
       "<table border=\"1\" class=\"dataframe\">\n",
       "  <thead>\n",
       "    <tr style=\"text-align: right;\">\n",
       "      <th></th>\n",
       "      <th>title</th>\n",
       "      <th>score</th>\n",
       "      <th>num_comments</th>\n",
       "      <th>created</th>\n",
       "      <th>selftext</th>\n",
       "    </tr>\n",
       "  </thead>\n",
       "  <tbody>\n",
       "    <tr>\n",
       "      <th>0</th>\n",
       "      <td>I feel behind in life and it is making me depr...</td>\n",
       "      <td>1</td>\n",
       "      <td>0</td>\n",
       "      <td>2025-09-08 23:29:39</td>\n",
       "      <td>I just feel so behind in life. I keep wishing ...</td>\n",
       "    </tr>\n",
       "    <tr>\n",
       "      <th>1</th>\n",
       "      <td>I don't understand why I'm hurting</td>\n",
       "      <td>1</td>\n",
       "      <td>0</td>\n",
       "      <td>2025-09-08 23:27:41</td>\n",
       "      <td>I've been diagnosed by a psychiatrist for depr...</td>\n",
       "    </tr>\n",
       "    <tr>\n",
       "      <th>2</th>\n",
       "      <td>Struggling with Maladaptive Daydreaming: How D...</td>\n",
       "      <td>1</td>\n",
       "      <td>0</td>\n",
       "      <td>2025-09-08 23:27:27</td>\n",
       "      <td>Hi everyone,\\nI’m reaching out because I’m str...</td>\n",
       "    </tr>\n",
       "    <tr>\n",
       "      <th>3</th>\n",
       "      <td>I hate my life</td>\n",
       "      <td>2</td>\n",
       "      <td>2</td>\n",
       "      <td>2025-09-08 23:26:05</td>\n",
       "      <td>I'm 30m. And I hate my life. I hate my job and...</td>\n",
       "    </tr>\n",
       "    <tr>\n",
       "      <th>4</th>\n",
       "      <td>Guys it's slowly but surely becoming unbearable</td>\n",
       "      <td>1</td>\n",
       "      <td>1</td>\n",
       "      <td>2025-09-08 23:22:24</td>\n",
       "      <td>I can't. I just can't. \\n\\nAt day, at work, wi...</td>\n",
       "    </tr>\n",
       "  </tbody>\n",
       "</table>\n",
       "</div>"
      ],
      "text/plain": [
       "                                               title  score  num_comments  \\\n",
       "0  I feel behind in life and it is making me depr...      1             0   \n",
       "1                 I don't understand why I'm hurting      1             0   \n",
       "2  Struggling with Maladaptive Daydreaming: How D...      1             0   \n",
       "3                                     I hate my life      2             2   \n",
       "4    Guys it's slowly but surely becoming unbearable      1             1   \n",
       "\n",
       "               created                                           selftext  \n",
       "0  2025-09-08 23:29:39  I just feel so behind in life. I keep wishing ...  \n",
       "1  2025-09-08 23:27:41  I've been diagnosed by a psychiatrist for depr...  \n",
       "2  2025-09-08 23:27:27  Hi everyone,\\nI’m reaching out because I’m str...  \n",
       "3  2025-09-08 23:26:05  I'm 30m. And I hate my life. I hate my job and...  \n",
       "4  2025-09-08 23:22:24  I can't. I just can't. \\n\\nAt day, at work, wi...  "
      ]
     },
     "execution_count": 17,
     "metadata": {},
     "output_type": "execute_result"
    }
   ],
   "source": [
    "df = pd.read_csv(\"mental_health_posts.csv\")\n",
    "print(f\"DataFrame shape: {df.shape}\")\n",
    "df.head()"
   ]
  },
  {
   "cell_type": "markdown",
   "id": "589a1faf",
   "metadata": {},
   "source": [
    "**Note:** I know we could look at this back in `WebScraper.py`, but also looks nice here too. I just want to make things look nice 😊."
   ]
  },
  {
   "cell_type": "code",
   "execution_count": 18,
   "id": "ed5fece9",
   "metadata": {},
   "outputs": [
    {
     "data": {
      "text/plain": [
       "title           object\n",
       "score            int64\n",
       "num_comments     int64\n",
       "created         object\n",
       "selftext        object\n",
       "dtype: object"
      ]
     },
     "execution_count": 18,
     "metadata": {},
     "output_type": "execute_result"
    }
   ],
   "source": [
    "df.dtypes"
   ]
  },
  {
   "cell_type": "markdown",
   "id": "a0285eef",
   "metadata": {},
   "source": [
    "---\n",
    "\n",
    "#### Defining Our ML Problem\n",
    "\n",
    "##### Explaining our Data\n",
    "The data is from the Reddit forum `r/mentalhealth` and from the `New` tab I scraped the following:\n",
    "- Post Title (`post`)\n",
    "- Number of Upvotes (`score`)\n",
    "- Number of Comments (`num_comments`)\n",
    "- Time Post was Created (`created`)\n",
    "- The Post or Body Text (`selftext`)\n",
    "\n",
    "---\n",
    "\n",
    "##### Prediction Target (Unlabeled)\n",
    "The goal of this project is to analyze the text data, upvotes, and number of comments from the posts to identify common themes and topics discussed in the mental health community. Since the data is unlabeled, we will use unsupervised learning techniques to discover patterns and insights.\n",
    "\n",
    "---\n",
    "\n",
    "##### Problem Type\n",
    "This is an unsupervised learning problem as there are no labels. Insight I am hoping to gather are:\n",
    "- sentiment trends\n",
    "- common topics discussed\n",
    "- patterns and trends\n",
    "\n",
    "---\n",
    "\n",
    "##### Importance\n",
    "Understanding online discussions about mental health can provide valuable insights into the challenges and concerns faced by individuals. This information can be used to inform mental health interventions, support services, and public health campaigns.\n",
    "\n",
    "---\n",
    "\n",
    "#### Cleaning Our Data/Text\n",
    "##### Combining Title and Text"
   ]
  },
  {
   "cell_type": "code",
   "execution_count": 19,
   "id": "a3307ce4",
   "metadata": {},
   "outputs": [],
   "source": [
    "df[\"text\"] = df[\"title\"].fillna(\"\") + \" \" + df[\"selftext\"].fillna(\"\")"
   ]
  },
  {
   "cell_type": "markdown",
   "id": "6b747cf1",
   "metadata": {},
   "source": [
    "##### Cleaning Our Text"
   ]
  },
  {
   "cell_type": "code",
   "execution_count": null,
   "id": "82093585",
   "metadata": {},
   "outputs": [
    {
     "name": "stderr",
     "output_type": "stream",
     "text": [
      "[nltk_data] Downloading package wordnet to\n",
      "[nltk_data]     C:\\Users\\andre\\AppData\\Roaming\\nltk_data...\n"
     ]
    },
    {
     "data": {
      "text/plain": [
       "0    feel life making depressed just feel life wish...\n",
       "1    dont understand im hurting ive diagnosed psych...\n",
       "2    struggling maladaptive daydreaming break cycle...\n",
       "3    hate life im hate life hate job house rent hat...\n",
       "4    slowly surely unbearable just day work friend ...\n",
       "Name: cleaned_text, dtype: object"
      ]
     },
     "execution_count": 21,
     "metadata": {},
     "output_type": "execute_result"
    }
   ],
   "source": [
    "lemmatizer = nltk.WordNetLemmatizer()\n",
    "stemmer = nltk.PorterStemmer()\n",
    "nltk.download('wordnet') # Download WordNet for lemmatization gives your lemmatizer the vocabulary and rules to reduce words\n",
    "\n",
    "def clean_text(text):\n",
    "    text = str(text)\n",
    "    text = str(TextBlob(text).correct())\n",
    "    text = text.lower()\n",
    "    text = re.sub(r\"[^a-z\\s]\", \"\", text)\n",
    "    words = text.split()\n",
    "    words = [word for word in words if word not in ENGLISH_STOP_WORDS]\n",
    "    words = [lemmatizer.lemmatize(word) for word in words]\n",
    "    return \" \".join(words)\n",
    "\n",
    "df[\"cleaned_text\"] = df[\"text\"].apply(clean_text)\n",
    "df[\"cleaned_text\"].head()"
   ]
  },
  {
   "cell_type": "markdown",
   "id": "dee65945",
   "metadata": {},
   "source": [
    "**Note:** It's more readable than it once was.  \n",
    "What's being done (`Text Cleaning`):\n",
    "- Ensuring `\"text\"` is a string\n",
    "- Correcting any spelling mistakes\n",
    "- Lowercasing\n",
    "- Removing punctuation and special characters\n",
    "- Tokenizing (splitting into words)\n",
    "- Removing stopwords (common words that don't add much meaning)\n",
    "- Stemming"
   ]
  },
  {
   "cell_type": "markdown",
   "id": "3827611c",
   "metadata": {},
   "source": [
    "##### Implementing TF-IDF Vectorizer to  Transform Text"
   ]
  },
  {
   "cell_type": "code",
   "execution_count": 22,
   "id": "2740fbc6",
   "metadata": {},
   "outputs": [
    {
     "name": "stdout",
     "output_type": "stream",
     "text": [
      "TF-IDF matrix shape: (500, 5000)\n",
      "Sample features: ['abandoned' 'abandoning' 'abandonment' 'ability' 'able' 'abroad'\n",
      " 'abruptly' 'abscess' 'absence' 'absolute']\n"
     ]
    }
   ],
   "source": [
    "vectorizer = TfidfVectorizer(max_features=5000)  # limit vocab to top 5000 terms\n",
    "X = vectorizer.fit_transform(df[\"cleaned_text\"])\n",
    "print(f\"TF-IDF matrix shape: {X.shape}\")\n",
    "feature_names = vectorizer.get_feature_names_out()\n",
    "print(f\"Sample features: {feature_names[:10]}\")  # print first 10 feature names\n",
    "\n"
   ]
  },
  {
   "cell_type": "markdown",
   "id": "b2226234",
   "metadata": {},
   "source": [
    "**Note:** I am not fond of NLP. Yes, I did one assignemnts on NLP, but I wouldn't say I am master.  \n",
    "\n",
    "TF-IDF stand for Term Frequency - Inverse Document Frequency. It's a method to turn text into numbers, so that machine learning models can understand it.\n",
    "\n",
    "- **Term Frequency (TF)**: This measures how often a word appears in a document. The more times a word appears, the higher its TF score.  \n",
    "\n",
    "        For Example: \"I feel so lonely lonely\" {\"I\" = 1, \"feel\" = 1, \"so\" = 1, \"lonely\" = 2}\n",
    "\n",
    "- **Inverse Document Frequency (IDF)**: This measures how important a word is across all documents. If a word appears in many documents, it gets a lower IDF score. Rare words get higher scores.  \n",
    "\n",
    "        Formula:\n",
    "        IDF(word) = log(Total Number of Documents / 1 + Number of Documents with the word)\n",
    "\n",
    "- **TF-IDF Score**: The TF-IDF score is calculated by multiplying the TF and IDF scores. This way, common words that appear in many documents get lower scores, while rare but important words get higher scores.\n",
    "\n",
    "        Formula:\n",
    "        TF-IDF = TF * IDF"
   ]
  },
  {
   "cell_type": "code",
   "execution_count": null,
   "id": "53d20884",
   "metadata": {},
   "outputs": [],
   "source": []
  },
  {
   "cell_type": "markdown",
   "id": "11e0e837",
   "metadata": {},
   "source": []
  }
 ],
 "metadata": {
  "kernelspec": {
   "display_name": "Python 3",
   "language": "python",
   "name": "python3"
  },
  "language_info": {
   "codemirror_mode": {
    "name": "ipython",
    "version": 3
   },
   "file_extension": ".py",
   "mimetype": "text/x-python",
   "name": "python",
   "nbconvert_exporter": "python",
   "pygments_lexer": "ipython3",
   "version": "3.10.11"
  }
 },
 "nbformat": 4,
 "nbformat_minor": 5
}
